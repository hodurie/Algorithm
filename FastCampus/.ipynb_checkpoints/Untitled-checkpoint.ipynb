{
 "cells": [
  {
   "cell_type": "markdown",
   "metadata": {},
   "source": [
    "# 병합 정렬"
   ]
  },
  {
   "cell_type": "code",
   "execution_count": 1,
   "metadata": {},
   "outputs": [],
   "source": [
    "def merge_data(left, right):\n",
    "    lst = list()\n",
    "    l_idx, r_idx = 0, 0\n",
    "    \n",
    "    while len(left) > l_idx and len(right) > r_idx:\n",
    "        if left[l_idx] > right[r_idx]:\n",
    "            lst.append(right[r_idx])\n",
    "            r_idx += 1\n",
    "        else:\n",
    "            lst.append(left[l_idx])\n",
    "            l_idx += 1\n",
    "\n",
    "    while len(left) > l_idx:\n",
    "        lst.append(left[l_idx])\n",
    "        l_idx += 1\n",
    "        \n",
    "    while len(right) > r_idx:\n",
    "        lst.append(right[r_idx])\n",
    "        r_idx += 1\n",
    "    \n",
    "    return lst"
   ]
  },
  {
   "cell_type": "code",
   "execution_count": 2,
   "metadata": {},
   "outputs": [],
   "source": [
    "def split_data(data):\n",
    "    if len(data) <= 1:\n",
    "        return data\n",
    "    medium = int(len(data) / 2)\n",
    "    left = split_data(data[:medium])\n",
    "    right = split_data(data[medium:])\n",
    "    return merge_data(left, right)"
   ]
  },
  {
   "cell_type": "code",
   "execution_count": 3,
   "metadata": {},
   "outputs": [
    {
     "data": {
      "text/plain": [
       "[0, 1, 12, 20, 25, 27, 34, 35, 36, 39]"
      ]
     },
     "execution_count": 3,
     "metadata": {},
     "output_type": "execute_result"
    }
   ],
   "source": [
    "import random\n",
    "\n",
    "data = random.sample(range(50), 10)\n",
    "split_data(data)"
   ]
  }
 ],
 "metadata": {
  "kernelspec": {
   "display_name": "Python 3",
   "language": "python",
   "name": "python3"
  },
  "language_info": {
   "codemirror_mode": {
    "name": "ipython",
    "version": 3
   },
   "file_extension": ".py",
   "mimetype": "text/x-python",
   "name": "python",
   "nbconvert_exporter": "python",
   "pygments_lexer": "ipython3",
   "version": "3.7.4"
  }
 },
 "nbformat": 4,
 "nbformat_minor": 2
}
