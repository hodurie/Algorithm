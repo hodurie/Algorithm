{
 "cells": [
  {
   "cell_type": "markdown",
   "metadata": {},
   "source": [
    "# 선택 정렬"
   ]
  },
  {
   "cell_type": "code",
   "execution_count": 1,
   "metadata": {},
   "outputs": [],
   "source": [
    "def selection_sort(data):\n",
    "    for i in range(len(data) - 1):\n",
    "        lowest = i\n",
    "        for j in range(i + 1, len(data)):\n",
    "            if data[lowest] > data[j]:\n",
    "                lowest = j\n",
    "        data[lowest], data[i] = data[i], data[lowest]\n",
    "    return data"
   ]
  },
  {
   "cell_type": "code",
   "execution_count": 2,
   "metadata": {},
   "outputs": [
    {
     "data": {
      "text/plain": [
       "[0,\n",
       " 2,\n",
       " 7,\n",
       " 10,\n",
       " 12,\n",
       " 13,\n",
       " 15,\n",
       " 16,\n",
       " 17,\n",
       " 18,\n",
       " 19,\n",
       " 22,\n",
       " 23,\n",
       " 25,\n",
       " 28,\n",
       " 29,\n",
       " 32,\n",
       " 34,\n",
       " 37,\n",
       " 38,\n",
       " 40,\n",
       " 41,\n",
       " 43,\n",
       " 44,\n",
       " 48,\n",
       " 51,\n",
       " 56,\n",
       " 59,\n",
       " 60,\n",
       " 61,\n",
       " 62,\n",
       " 63,\n",
       " 64,\n",
       " 67,\n",
       " 70,\n",
       " 72,\n",
       " 74,\n",
       " 76,\n",
       " 79,\n",
       " 80,\n",
       " 81,\n",
       " 83,\n",
       " 84,\n",
       " 87,\n",
       " 88,\n",
       " 89,\n",
       " 90,\n",
       " 92,\n",
       " 96,\n",
       " 99]"
      ]
     },
     "execution_count": 2,
     "metadata": {},
     "output_type": "execute_result"
    }
   ],
   "source": [
    "import random\n",
    "\n",
    "data = random.sample(range(100), 50)\n",
    "selection_sort(data)"
   ]
  }
 ],
 "metadata": {
  "kernelspec": {
   "display_name": "Python 3",
   "language": "python",
   "name": "python3"
  },
  "language_info": {
   "codemirror_mode": {
    "name": "ipython",
    "version": 3
   },
   "file_extension": ".py",
   "mimetype": "text/x-python",
   "name": "python",
   "nbconvert_exporter": "python",
   "pygments_lexer": "ipython3",
   "version": "3.7.4"
  }
 },
 "nbformat": 4,
 "nbformat_minor": 2
}
