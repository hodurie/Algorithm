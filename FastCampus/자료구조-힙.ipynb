{
 "cells": [
  {
   "cell_type": "markdown",
   "metadata": {},
   "source": [
    "# 힙 "
   ]
  },
  {
   "cell_type": "code",
   "execution_count": 1,
   "metadata": {},
   "outputs": [],
   "source": [
    "class Heap:\n",
    "    def __init__(self, data):\n",
    "        self.heap_array = list()\n",
    "        self.heap_array.append(None)\n",
    "        self.heap_array.append(data)\n",
    "    \n",
    "    def move_down(self, popped_idx):\n",
    "        left_child_popped_idx = popped_idx * 2\n",
    "        right_child_popped_idx = popped_idx * 2 + 1\n",
    "        \n",
    "        # 1) 왼쪽 자식 노드가 없는 경우\n",
    "        if left_child_popped_idx >= len(self.heap_array):\n",
    "            return False\n",
    "        # 2) 왼쪽 자식 노드만 있는 경우\n",
    "        elif right_child_popped_idx >= len(self.heap_array):\n",
    "            if self.heap_array[popped_idx] < self.heap_array[left_child_popped_idx]:\n",
    "                return True\n",
    "            else:\n",
    "                return False\n",
    "        # 3) 자식 노드가 모두 있을 때\n",
    "        else:\n",
    "            if self.heap_array[left_child_popped_idx] > self.heap_array[right_child_popped_idx]:\n",
    "                if self.heap_array[popped_idx] < self.heap_array[left_child_popped_idx]:\n",
    "                    return True\n",
    "                else:\n",
    "                    return False\n",
    "            else:\n",
    "                if self.heap_array[popped_idx] < self.heap_array[right_child_popped_idx]:\n",
    "                    return True\n",
    "                else:\n",
    "                    return False\n",
    "    \n",
    "    def pop(self):\n",
    "        if len(self.heap_array) <= 1:\n",
    "            return None\n",
    "        \n",
    "        returned_data = self.heap_array[1]\n",
    "        self.heap_array[1] = self.heap_array[-1]\n",
    "        del self.heap_array[-1]\n",
    "        popped_idx = 1\n",
    "        \n",
    "        while self.move_down(popped_idx):\n",
    "            left_child_popped_idx = popped_idx * 2\n",
    "            right_child_popped_idx = popped_idx * 2 + 1\n",
    "\n",
    "            if right_child_popped_idx >= len(self.heap_array):\n",
    "                if self.heap_array[popped_idx] < self.heap_array[left_child_popped_idx]:\n",
    "                    self.heap_array[popped_idx], self.heap_array[left_child_popped_idx] = self.heap_array[left_child_popped_idx], self.heap_array[popped_idx]\n",
    "                    popped_idx = left_child_popped_idx\n",
    "            else:\n",
    "                if self.heap_array[left_child_popped_idx] > self.heap_array[right_child_popped_idx]:\n",
    "                    if self.heap_array[popped_idx] < self.heap_array[left_child_popped_idx]:\n",
    "                        self.heap_array[popped_idx], self.heap_array[left_child_popped_idx] = self.heap_array[left_child_popped_idx], self.heap_array[popped_idx]\n",
    "                        popped_idx = left_child_popped_idx\n",
    "                else:\n",
    "                    if self.heap_array[popped_idx] < self.heap_array[right_child_popped_idx]:\n",
    "                        self.heap_array[popped_idx], self.heap_array[right_child_popped_idx] = self.heap_array[right_child_popped_idx], self.heap_array[popped_idx]\n",
    "                        popped_idx = right_child_popped_idx\n",
    "        \n",
    "        return returned_data\n",
    "    \n",
    "    def move_up(self, inserted_idx):\n",
    "        if inserted_idx <= 1:\n",
    "            return False\n",
    "        parent_idx = inserted_idx // 2\n",
    "        if self.heap_array[inserted_idx] > self.heap_array[parent_idx]:\n",
    "            return True\n",
    "        else:\n",
    "            return False\n",
    "\n",
    "    def insert(self, data):\n",
    "        if len(self.heap_array) == 1:\n",
    "            self.heap_array.append(data)\n",
    "            return True\n",
    "        \n",
    "        self.heap_array.append(data)\n",
    "        inserted_idx = len(self.heap_array) - 1\n",
    "        \n",
    "        while self.move_up(inserted_idx):\n",
    "            parent_idx = inserted_idx // 2\n",
    "            self.heap_array[inserted_idx], self.heap_array[parent_idx] = self.heap_array[parent_idx], self.heap_array[inserted_idx]\n",
    "            inserted_idx = parent_idx\n",
    "        return True    "
   ]
  },
  {
   "cell_type": "code",
   "execution_count": 2,
   "metadata": {},
   "outputs": [
    {
     "data": {
      "text/plain": [
       "[None, 20, 10, 15, 5, 4, 8]"
      ]
     },
     "execution_count": 2,
     "metadata": {},
     "output_type": "execute_result"
    }
   ],
   "source": [
    "heap = Heap(15)\n",
    "heap.insert(10)\n",
    "heap.insert(8)\n",
    "heap.insert(5)\n",
    "heap.insert(4)\n",
    "heap.insert(20)\n",
    "heap.heap_array"
   ]
  },
  {
   "cell_type": "code",
   "execution_count": 3,
   "metadata": {},
   "outputs": [
    {
     "data": {
      "text/plain": [
       "15"
      ]
     },
     "execution_count": 3,
     "metadata": {},
     "output_type": "execute_result"
    }
   ],
   "source": [
    "heap.pop()\n",
    "heap.pop()"
   ]
  },
  {
   "cell_type": "code",
   "execution_count": 4,
   "metadata": {},
   "outputs": [
    {
     "data": {
      "text/plain": [
       "[None, 10, 5, 8, 4]"
      ]
     },
     "execution_count": 4,
     "metadata": {},
     "output_type": "execute_result"
    }
   ],
   "source": [
    "heap.heap_array"
   ]
  }
 ],
 "metadata": {
  "kernelspec": {
   "display_name": "Python 3",
   "language": "python",
   "name": "python3"
  },
  "language_info": {
   "codemirror_mode": {
    "name": "ipython",
    "version": 3
   },
   "file_extension": ".py",
   "mimetype": "text/x-python",
   "name": "python",
   "nbconvert_exporter": "python",
   "pygments_lexer": "ipython3",
   "version": "3.7.4"
  }
 },
 "nbformat": 4,
 "nbformat_minor": 2
}
